{
 "cells": [
  {
   "cell_type": "code",
   "execution_count": 1,
   "id": "f3f3c5f4",
   "metadata": {},
   "outputs": [],
   "source": [
    "import garpar as gp "
   ]
  },
  {
   "cell_type": "code",
   "execution_count": 2,
   "id": "ea9c159f",
   "metadata": {},
   "outputs": [],
   "source": [
    "maker = gp.datasets.risso.RissoNormal()"
   ]
  },
  {
   "cell_type": "markdown",
   "id": "ec5a17c0",
   "metadata": {},
   "source": [
    "    gp.risso.RissoNormal(n_jobs=3)"
   ]
  },
  {
   "cell_type": "code",
   "execution_count": 3,
   "id": "7e56e25e",
   "metadata": {},
   "outputs": [],
   "source": [
    "mercado_normal =maker.make_portfolio(days=10, price= 150, window_size=5,stock_number=10,entropy=0.10)"
   ]
  },
  {
   "cell_type": "code",
   "execution_count": 4,
   "id": "345e815d",
   "metadata": {},
   "outputs": [
    {
     "data": {
      "text/html": [
       "<div>\n",
       "<style scoped>\n",
       "    .dataframe tbody tr th:only-of-type {\n",
       "        vertical-align: middle;\n",
       "    }\n",
       "\n",
       "    .dataframe tbody tr th {\n",
       "        vertical-align: top;\n",
       "    }\n",
       "\n",
       "    .dataframe thead th {\n",
       "        text-align: right;\n",
       "    }\n",
       "</style>\n",
       "<table border=\"1\" class=\"dataframe\">\n",
       "  <thead>\n",
       "    <tr style=\"text-align: right;\">\n",
       "      <th></th>\n",
       "      <th>stock_0</th>\n",
       "      <th>stock_1</th>\n",
       "      <th>stock_2</th>\n",
       "      <th>stock_3</th>\n",
       "      <th>stock_4</th>\n",
       "      <th>stock_5</th>\n",
       "      <th>stock_6</th>\n",
       "      <th>stock_7</th>\n",
       "      <th>stock_8</th>\n",
       "      <th>stock_9</th>\n",
       "    </tr>\n",
       "  </thead>\n",
       "  <tbody>\n",
       "    <tr>\n",
       "      <th>0</th>\n",
       "      <td>150.000000</td>\n",
       "      <td>150.000000</td>\n",
       "      <td>150.000000</td>\n",
       "      <td>150.000000</td>\n",
       "      <td>150.000000</td>\n",
       "      <td>150.000000</td>\n",
       "      <td>150.000000</td>\n",
       "      <td>150.000000</td>\n",
       "      <td>150.000000</td>\n",
       "      <td>150.000000</td>\n",
       "    </tr>\n",
       "    <tr>\n",
       "      <th>1</th>\n",
       "      <td>149.891083</td>\n",
       "      <td>149.751303</td>\n",
       "      <td>149.985280</td>\n",
       "      <td>150.125994</td>\n",
       "      <td>150.403993</td>\n",
       "      <td>149.675954</td>\n",
       "      <td>150.368272</td>\n",
       "      <td>149.940756</td>\n",
       "      <td>149.684481</td>\n",
       "      <td>150.158306</td>\n",
       "    </tr>\n",
       "    <tr>\n",
       "      <th>2</th>\n",
       "      <td>150.130114</td>\n",
       "      <td>149.481545</td>\n",
       "      <td>150.142223</td>\n",
       "      <td>149.817359</td>\n",
       "      <td>150.247573</td>\n",
       "      <td>149.660750</td>\n",
       "      <td>150.308732</td>\n",
       "      <td>149.784236</td>\n",
       "      <td>149.732920</td>\n",
       "      <td>150.019239</td>\n",
       "    </tr>\n",
       "    <tr>\n",
       "      <th>3</th>\n",
       "      <td>150.002090</td>\n",
       "      <td>149.524965</td>\n",
       "      <td>149.818441</td>\n",
       "      <td>150.046680</td>\n",
       "      <td>150.574676</td>\n",
       "      <td>149.826347</td>\n",
       "      <td>150.464330</td>\n",
       "      <td>149.619493</td>\n",
       "      <td>149.671987</td>\n",
       "      <td>150.104754</td>\n",
       "    </tr>\n",
       "    <tr>\n",
       "      <th>4</th>\n",
       "      <td>150.555335</td>\n",
       "      <td>149.665879</td>\n",
       "      <td>149.717864</td>\n",
       "      <td>150.175806</td>\n",
       "      <td>150.609320</td>\n",
       "      <td>149.636136</td>\n",
       "      <td>150.822393</td>\n",
       "      <td>149.399643</td>\n",
       "      <td>149.177560</td>\n",
       "      <td>149.895539</td>\n",
       "    </tr>\n",
       "    <tr>\n",
       "      <th>5</th>\n",
       "      <td>150.753762</td>\n",
       "      <td>149.850951</td>\n",
       "      <td>149.643459</td>\n",
       "      <td>150.290044</td>\n",
       "      <td>150.818079</td>\n",
       "      <td>149.793096</td>\n",
       "      <td>151.302348</td>\n",
       "      <td>149.241414</td>\n",
       "      <td>148.646886</td>\n",
       "      <td>150.001642</td>\n",
       "    </tr>\n",
       "    <tr>\n",
       "      <th>6</th>\n",
       "      <td>150.954189</td>\n",
       "      <td>149.460354</td>\n",
       "      <td>149.667656</td>\n",
       "      <td>150.329126</td>\n",
       "      <td>150.913734</td>\n",
       "      <td>149.842164</td>\n",
       "      <td>151.304926</td>\n",
       "      <td>149.552001</td>\n",
       "      <td>148.320201</td>\n",
       "      <td>150.077110</td>\n",
       "    </tr>\n",
       "    <tr>\n",
       "      <th>7</th>\n",
       "      <td>150.752276</td>\n",
       "      <td>149.421908</td>\n",
       "      <td>149.796251</td>\n",
       "      <td>150.304380</td>\n",
       "      <td>150.628147</td>\n",
       "      <td>149.854389</td>\n",
       "      <td>151.157500</td>\n",
       "      <td>149.761622</td>\n",
       "      <td>148.029425</td>\n",
       "      <td>150.253252</td>\n",
       "    </tr>\n",
       "    <tr>\n",
       "      <th>8</th>\n",
       "      <td>150.730486</td>\n",
       "      <td>149.429275</td>\n",
       "      <td>149.731796</td>\n",
       "      <td>150.515436</td>\n",
       "      <td>150.817378</td>\n",
       "      <td>149.719893</td>\n",
       "      <td>151.244396</td>\n",
       "      <td>149.817096</td>\n",
       "      <td>148.243828</td>\n",
       "      <td>150.204212</td>\n",
       "    </tr>\n",
       "    <tr>\n",
       "      <th>9</th>\n",
       "      <td>150.413939</td>\n",
       "      <td>149.257492</td>\n",
       "      <td>149.540903</td>\n",
       "      <td>150.592008</td>\n",
       "      <td>150.826241</td>\n",
       "      <td>149.850443</td>\n",
       "      <td>151.333756</td>\n",
       "      <td>149.743138</td>\n",
       "      <td>148.427741</td>\n",
       "      <td>150.313936</td>\n",
       "    </tr>\n",
       "    <tr>\n",
       "      <th>10</th>\n",
       "      <td>150.559897</td>\n",
       "      <td>149.546872</td>\n",
       "      <td>149.799557</td>\n",
       "      <td>150.845398</td>\n",
       "      <td>150.602557</td>\n",
       "      <td>150.090163</td>\n",
       "      <td>150.888083</td>\n",
       "      <td>149.872910</td>\n",
       "      <td>148.221159</td>\n",
       "      <td>150.422816</td>\n",
       "    </tr>\n",
       "  </tbody>\n",
       "</table>\n",
       "</div>"
      ],
      "text/plain": [
       "       stock_0     stock_1     stock_2     stock_3     stock_4     stock_5     stock_6     stock_7     stock_8     stock_9\n",
       "0   150.000000  150.000000  150.000000  150.000000  150.000000  150.000000  150.000000  150.000000  150.000000  150.000000\n",
       "1   149.891083  149.751303  149.985280  150.125994  150.403993  149.675954  150.368272  149.940756  149.684481  150.158306\n",
       "2   150.130114  149.481545  150.142223  149.817359  150.247573  149.660750  150.308732  149.784236  149.732920  150.019239\n",
       "3   150.002090  149.524965  149.818441  150.046680  150.574676  149.826347  150.464330  149.619493  149.671987  150.104754\n",
       "4   150.555335  149.665879  149.717864  150.175806  150.609320  149.636136  150.822393  149.399643  149.177560  149.895539\n",
       "5   150.753762  149.850951  149.643459  150.290044  150.818079  149.793096  151.302348  149.241414  148.646886  150.001642\n",
       "6   150.954189  149.460354  149.667656  150.329126  150.913734  149.842164  151.304926  149.552001  148.320201  150.077110\n",
       "7   150.752276  149.421908  149.796251  150.304380  150.628147  149.854389  151.157500  149.761622  148.029425  150.253252\n",
       "8   150.730486  149.429275  149.731796  150.515436  150.817378  149.719893  151.244396  149.817096  148.243828  150.204212\n",
       "9   150.413939  149.257492  149.540903  150.592008  150.826241  149.850443  151.333756  149.743138  148.427741  150.313936\n",
       "10  150.559897  149.546872  149.799557  150.845398  150.602557  150.090163  150.888083  149.872910  148.221159  150.422816\n",
       "Portfolio [11 days x 10 stocks]"
      ]
     },
     "execution_count": 4,
     "metadata": {},
     "output_type": "execute_result"
    }
   ],
   "source": [
    "mercado_normal "
   ]
  },
  {
   "cell_type": "code",
   "execution_count": 5,
   "id": "5e76439f",
   "metadata": {},
   "outputs": [
    {
     "data": {
      "text/plain": [
       "<AxesSubplot:>"
      ]
     },
     "execution_count": 5,
     "metadata": {},
     "output_type": "execute_result"
    },
    {
     "data": {
      "image/png": "[encoded data removed]",
      "text/plain": [
       "<Figure size 432x288 with 1 Axes>"
      ]
     },
     "metadata": {
      "needs_background": "light"
     },
     "output_type": "display_data"
    }
   ],
   "source": [
    "mercado_normal.plot()"
   ]
  },
  {
   "cell_type": "code",
   "execution_count": 6,
   "id": "68b34f6b",
   "metadata": {},
   "outputs": [
    {
     "data": {
      "text/plain": [
       "<AxesSubplot:>"
      ]
     },
     "execution_count": 6,
     "metadata": {},
     "output_type": "execute_result"
    },
    {
     "data": {
      "image/png": "[encoded data removed]",
      "text/plain": [
       "<Figure size 432x288 with 1 Axes>"
      ]
     },
     "metadata": {
      "needs_background": "light"
     },
     "output_type": "display_data"
    }
   ],
   "source": [
    "mercado_normal.plot.box(all)"
   ]
  },
  {
   "cell_type": "code",
   "execution_count": 7,
   "id": "09128340",
   "metadata": {},
   "outputs": [
    {
     "data": {
      "text/plain": [
       "<AxesSubplot:>"
      ]
     },
     "execution_count": 7,
     "metadata": {},
     "output_type": "execute_result"
    },
    {
     "data": {
      "image/png": "[encoded data removed]",
      "text/plain": [
       "<Figure size 432x288 with 1 Axes>"
      ]
     },
     "metadata": {
      "needs_background": "light"
     },
     "output_type": "display_data"
    }
   ],
   "source": [
    "    mercado_normal.plot.box(ArithmeticError)"
   ]
  },
  {
   "cell_type": "code",
   "execution_count": 12,
   "id": "cea262d0",
   "metadata": {},
   "outputs": [],
   "source": [
    "makerstable = gp.datasets.risso.RissoLevyStable(n_jobs=8)"
   ]
  },
  {
   "cell_type": "code",
   "execution_count": 13,
   "id": "f754f3ed",
   "metadata": {},
   "outputs": [],
   "source": [
    "mercado_stable = makerstable.make_portfolio(days=10, price= 150, window_size=5,stock_number=10,entropy=0.10)"
   ]
  },
  {
   "cell_type": "code",
   "execution_count": 14,
   "id": "a7e8dcfd",
   "metadata": {},
   "outputs": [
    {
     "data": {
      "text/html": [
       "<div>\n",
       "<style scoped>\n",
       "    .dataframe tbody tr th:only-of-type {\n",
       "        vertical-align: middle;\n",
       "    }\n",
       "\n",
       "    .dataframe tbody tr th {\n",
       "        vertical-align: top;\n",
       "    }\n",
       "\n",
       "    .dataframe thead th {\n",
       "        text-align: right;\n",
       "    }\n",
       "</style>\n",
       "<table border=\"1\" class=\"dataframe\">\n",
       "  <thead>\n",
       "    <tr style=\"text-align: right;\">\n",
       "      <th></th>\n",
       "      <th>stock_0</th>\n",
       "      <th>stock_1</th>\n",
       "      <th>stock_2</th>\n",
       "      <th>stock_3</th>\n",
       "      <th>stock_4</th>\n",
       "      <th>stock_5</th>\n",
       "      <th>stock_6</th>\n",
       "      <th>stock_7</th>\n",
       "      <th>stock_8</th>\n",
       "      <th>stock_9</th>\n",
       "    </tr>\n",
       "  </thead>\n",
       "  <tbody>\n",
       "    <tr>\n",
       "      <th>0</th>\n",
       "      <td>150.000000</td>\n",
       "      <td>150.000000</td>\n",
       "      <td>150.000000</td>\n",
       "      <td>150.000000</td>\n",
       "      <td>150.000000</td>\n",
       "      <td>150.000000</td>\n",
       "      <td>150.000000</td>\n",
       "      <td>150.000000</td>\n",
       "      <td>150.000000</td>\n",
       "      <td>150.000000</td>\n",
       "    </tr>\n",
       "    <tr>\n",
       "      <th>1</th>\n",
       "      <td>150.331137</td>\n",
       "      <td>148.038678</td>\n",
       "      <td>149.466585</td>\n",
       "      <td>149.587470</td>\n",
       "      <td>152.894410</td>\n",
       "      <td>148.098544</td>\n",
       "      <td>147.699384</td>\n",
       "      <td>148.861970</td>\n",
       "      <td>153.787895</td>\n",
       "      <td>132.828997</td>\n",
       "    </tr>\n",
       "    <tr>\n",
       "      <th>2</th>\n",
       "      <td>151.502515</td>\n",
       "      <td>149.921796</td>\n",
       "      <td>150.209118</td>\n",
       "      <td>150.250806</td>\n",
       "      <td>152.858491</td>\n",
       "      <td>145.447106</td>\n",
       "      <td>149.218029</td>\n",
       "      <td>148.027242</td>\n",
       "      <td>153.271905</td>\n",
       "      <td>133.795411</td>\n",
       "    </tr>\n",
       "    <tr>\n",
       "      <th>3</th>\n",
       "      <td>159.605448</td>\n",
       "      <td>149.797345</td>\n",
       "      <td>145.584258</td>\n",
       "      <td>150.853506</td>\n",
       "      <td>150.527076</td>\n",
       "      <td>84.043628</td>\n",
       "      <td>156.855849</td>\n",
       "      <td>147.158132</td>\n",
       "      <td>154.411133</td>\n",
       "      <td>127.572513</td>\n",
       "    </tr>\n",
       "    <tr>\n",
       "      <th>4</th>\n",
       "      <td>160.794629</td>\n",
       "      <td>150.020285</td>\n",
       "      <td>144.750890</td>\n",
       "      <td>80.897132</td>\n",
       "      <td>151.253792</td>\n",
       "      <td>84.268179</td>\n",
       "      <td>157.570843</td>\n",
       "      <td>148.742371</td>\n",
       "      <td>154.714445</td>\n",
       "      <td>127.718831</td>\n",
       "    </tr>\n",
       "    <tr>\n",
       "      <th>5</th>\n",
       "      <td>160.828777</td>\n",
       "      <td>150.054441</td>\n",
       "      <td>144.702760</td>\n",
       "      <td>79.556701</td>\n",
       "      <td>151.305225</td>\n",
       "      <td>84.804099</td>\n",
       "      <td>157.738831</td>\n",
       "      <td>147.394765</td>\n",
       "      <td>152.881940</td>\n",
       "      <td>118.656405</td>\n",
       "    </tr>\n",
       "    <tr>\n",
       "      <th>6</th>\n",
       "      <td>165.483873</td>\n",
       "      <td>150.667370</td>\n",
       "      <td>135.767842</td>\n",
       "      <td>83.360183</td>\n",
       "      <td>151.712143</td>\n",
       "      <td>87.776084</td>\n",
       "      <td>157.263214</td>\n",
       "      <td>145.572679</td>\n",
       "      <td>151.953331</td>\n",
       "      <td>118.174416</td>\n",
       "    </tr>\n",
       "    <tr>\n",
       "      <th>7</th>\n",
       "      <td>164.734298</td>\n",
       "      <td>151.259928</td>\n",
       "      <td>139.522384</td>\n",
       "      <td>83.654051</td>\n",
       "      <td>150.994142</td>\n",
       "      <td>85.511806</td>\n",
       "      <td>155.644169</td>\n",
       "      <td>144.527962</td>\n",
       "      <td>152.410771</td>\n",
       "      <td>117.574796</td>\n",
       "    </tr>\n",
       "    <tr>\n",
       "      <th>8</th>\n",
       "      <td>164.664396</td>\n",
       "      <td>152.681858</td>\n",
       "      <td>274.252902</td>\n",
       "      <td>83.730507</td>\n",
       "      <td>150.309205</td>\n",
       "      <td>85.817816</td>\n",
       "      <td>155.352752</td>\n",
       "      <td>145.236599</td>\n",
       "      <td>151.960663</td>\n",
       "      <td>114.459256</td>\n",
       "    </tr>\n",
       "    <tr>\n",
       "      <th>9</th>\n",
       "      <td>165.665563</td>\n",
       "      <td>159.557329</td>\n",
       "      <td>274.465637</td>\n",
       "      <td>82.283947</td>\n",
       "      <td>151.616986</td>\n",
       "      <td>84.412829</td>\n",
       "      <td>153.507064</td>\n",
       "      <td>146.210317</td>\n",
       "      <td>156.013866</td>\n",
       "      <td>111.118879</td>\n",
       "    </tr>\n",
       "    <tr>\n",
       "      <th>10</th>\n",
       "      <td>164.303674</td>\n",
       "      <td>160.448940</td>\n",
       "      <td>274.222927</td>\n",
       "      <td>81.371335</td>\n",
       "      <td>153.373906</td>\n",
       "      <td>82.684749</td>\n",
       "      <td>154.380265</td>\n",
       "      <td>164.611863</td>\n",
       "      <td>156.793964</td>\n",
       "      <td>112.590471</td>\n",
       "    </tr>\n",
       "  </tbody>\n",
       "</table>\n",
       "</div>"
      ],
      "text/plain": [
       "       stock_0     stock_1     stock_2     stock_3     stock_4     stock_5     stock_6     stock_7     stock_8     stock_9\n",
       "0   150.000000  150.000000  150.000000  150.000000  150.000000  150.000000  150.000000  150.000000  150.000000  150.000000\n",
       "1   150.331137  148.038678  149.466585  149.587470  152.894410  148.098544  147.699384  148.861970  153.787895  132.828997\n",
       "2   151.502515  149.921796  150.209118  150.250806  152.858491  145.447106  149.218029  148.027242  153.271905  133.795411\n",
       "3   159.605448  149.797345  145.584258  150.853506  150.527076   84.043628  156.855849  147.158132  154.411133  127.572513\n",
       "4   160.794629  150.020285  144.750890   80.897132  151.253792   84.268179  157.570843  148.742371  154.714445  127.718831\n",
       "5   160.828777  150.054441  144.702760   79.556701  151.305225   84.804099  157.738831  147.394765  152.881940  118.656405\n",
       "6   165.483873  150.667370  135.767842   83.360183  151.712143   87.776084  157.263214  145.572679  151.953331  118.174416\n",
       "7   164.734298  151.259928  139.522384   83.654051  150.994142   85.511806  155.644169  144.527962  152.410771  117.574796\n",
       "8   164.664396  152.681858  274.252902   83.730507  150.309205   85.817816  155.352752  145.236599  151.960663  114.459256\n",
       "9   165.665563  159.557329  274.465637   82.283947  151.616986   84.412829  153.507064  146.210317  156.013866  111.118879\n",
       "10  164.303674  160.448940  274.222927   81.371335  153.373906   82.684749  154.380265  164.611863  156.793964  112.590471\n",
       "Portfolio [11 days x 10 stocks]"
      ]
     },
     "execution_count": 14,
     "metadata": {},
     "output_type": "execute_result"
    }
   ],
   "source": [
    "mercado_stable"
   ]
  },
  {
   "cell_type": "code",
   "execution_count": 15,
   "id": "29d4c239",
   "metadata": {},
   "outputs": [
    {
     "data": {
      "text/plain": [
       "<AxesSubplot:>"
      ]
     },
     "execution_count": 15,
     "metadata": {},
     "output_type": "execute_result"
    },
    {
     "data": {
      "image/png": "[encoded data removed]",
      "text/plain": [
       "<Figure size 432x288 with 1 Axes>"
      ]
     },
     "metadata": {
      "needs_background": "light"
     },
     "output_type": "display_data"
    }
   ],
   "source": [
    "mercado_stable.plot()"
   ]
  },
  {
   "cell_type": "code",
   "execution_count": null,
   "id": "0b55f848",
   "metadata": {},
   "outputs": [],
   "source": []
  }
 ],
 "metadata": {
  "kernelspec": {
   "display_name": "Python 3 (ipykernel)",
   "language": "python",
   "name": "python3"
  },
  "language_info": {
   "codemirror_mode": {
    "name": "ipython",
    "version": 3
   },
   "file_extension": ".py",
   "mimetype": "text/x-python",
   "name": "python",
   "nbconvert_exporter": "python",
   "pygments_lexer": "ipython3",
   "version": "3.9.5"
  }
 },
 "nbformat": 4,
 "nbformat_minor": 5
}
